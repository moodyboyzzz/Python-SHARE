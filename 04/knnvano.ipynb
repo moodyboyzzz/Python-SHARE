{
 "cells": [
  {
   "cell_type": "code",
   "execution_count": 3,
   "metadata": {},
   "outputs": [],
   "source": [
    "import numpy as np\n",
    "\n",
    "class KnnBruteClassifier(object):\n",
    "    def __init__(self, n_neighbors=1, weights='uniform', metric='l2'):\n",
    "        self.n_neighbors = n_neighbors\n",
    "        self.weights = weights\n",
    "        self.metric = metric\n",
    "     \n",
    "    def fit(self, x, y):\n",
    "        self.x_train = np.array(x)\n",
    "        self.y_train = np.array(y)\n",
    "    \n",
    "    def predict(self, x):\n",
    "        distances, indices = self.kneighbors(x, self.n_neighbors)\n",
    "        weights = self.calculate_weights(distances)\n",
    "        y_train_subset = self.y_train[indices]\n",
    "        \n",
    "        if self.weights == 'uniform':\n",
    "            mode = np.array([np.argmax(np.bincount(row)) for row in y_train_subset])\n",
    "        elif self.weights == 'distance':\n",
    "            mode = np.array([np.argmax(np.bincount(row, weights=weights[i])) for i, row in enumerate(y_train_subset)])\n",
    "        \n",
    "        return mode\n",
    "    \n",
    "    def predict_proba(self, X):\n",
    "        distances, indices = self.kneighbors(X, self.n_neighbors)\n",
    "        weights = self.calculate_weights(distances)\n",
    "        y_train_subset = self.y_train[indices]\n",
    "\n",
    "        if self.weights == 'uniform':\n",
    "            probabilities = np.array([np.bincount(row) / self.n_neighbors for row in y_train_subset])\n",
    "        elif self.weights == 'distance':\n",
    "            total_weights = np.sum(weights, axis=1)\n",
    "            probabilities = np.array([np.bincount(row, weights=weights[i]) / total_weights[i] for i, row in enumerate(y_train_subset)])\n",
    "        \n",
    "        return probabilities\n",
    "        \n",
    "    def kneighbors(self, x, n_neighbors):\n",
    "        distances = self.calculate_distances(x)\n",
    "        indices = np.argsort(distances)[:, :n_neighbors]\n",
    "        distances = np.take_along_axis(distances, indices, axis=1)\n",
    "\n",
    "        return distances, indices\n",
    "    \n",
    "    def calculate_distances(self, x):\n",
    "        if self.metric == 'l2':\n",
    "            diff = x[:, :, np.newaxis] - self.x_train.T[np.newaxis, :, :]\n",
    "            distances = np.sqrt(np.sum(diff ** 2, axis=1))        \n",
    "        return distances\n",
    "    \n",
    "    def calculate_weights(self, distances):\n",
    "        if self.weights == 'uniform':\n",
    "            return np.ones(distances.shape)\n",
    "        elif self.weights == 'distance':\n",
    "            return 1 / distances"
   ]
  },
  {
   "cell_type": "code",
   "execution_count": null,
   "metadata": {},
   "outputs": [],
   "source": []
  }
 ],
 "metadata": {
  "kernelspec": {
   "display_name": "Python 3 (ipykernel)",
   "language": "python",
   "name": "python3"
  },
  "language_info": {
   "codemirror_mode": {
    "name": "ipython",
    "version": 3
   },
   "file_extension": ".py",
   "mimetype": "text/x-python",
   "name": "python",
   "nbconvert_exporter": "python",
   "pygments_lexer": "ipython3",
   "version": "3.11.4"
  }
 },
 "nbformat": 4,
 "nbformat_minor": 4
}
