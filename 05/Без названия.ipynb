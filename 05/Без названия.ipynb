{
 "cells": [
  {
   "cell_type": "code",
   "execution_count": 7,
   "id": "1cb82de7",
   "metadata": {},
   "outputs": [],
   "source": [
    "import pandas as pd\n",
    "import os\n",
    "\n",
    "def rem_stat_obj(group):\n",
    "    x_range = group['X'].max() - group['X'].min()\n",
    "    y_range = group['Y'].max() - group['Y'].min()\n",
    "    return x_range > 1 or y_range > 1\n",
    "\n",
    "df = pd.read_csv('data.csv')\n",
    "df = df.dropna()\n",
    "df = df[~df['OBJECT_TYPE'].isin(['AV', 'AGENT'])]\n",
    "df = df.groupby('TRACK_ID').filter(lambda x: len(x) > 10)\n",
    "df = df.groupby('TRACK_ID').filter(rem_stat_obj)\n",
    "df.sort_values(by=['TRACK_ID', 'TIMESTAMP'], inplace=True)\n",
    "df.to_csv('result.csv', index=False)"
   ]
  }
 ],
 "metadata": {
  "kernelspec": {
   "display_name": "Python 3 (ipykernel)",
   "language": "python",
   "name": "python3"
  },
  "language_info": {
   "codemirror_mode": {
    "name": "ipython",
    "version": 3
   },
   "file_extension": ".py",
   "mimetype": "text/x-python",
   "name": "python",
   "nbconvert_exporter": "python",
   "pygments_lexer": "ipython3",
   "version": "3.11.4"
  }
 },
 "nbformat": 4,
 "nbformat_minor": 5
}
