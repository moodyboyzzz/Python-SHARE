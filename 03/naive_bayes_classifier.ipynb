{
 "cells": [
  {
   "cell_type": "markdown",
   "id": "53f961f6",
   "metadata": {},
   "source": [
    "### Наивный байесовский классификатор"
   ]
  },
  {
   "cell_type": "markdown",
   "id": "6469b1ed",
   "metadata": {},
   "source": [
    "$$P(y | x_1,x_2,...,x_n) = \\frac{P(y) P(x_1,x_2,...,x_n|y)}{P(x_1,x_2,...,x_n)} $$"
   ]
  },
  {
   "cell_type": "markdown",
   "id": "c53a21ac",
   "metadata": {},
   "source": [
    "В силу 'наивного' предположения о независимости признаков $x_1,x_2,..,x_n$ получаем:"
   ]
  },
  {
   "cell_type": "markdown",
   "id": "3dd04fe9",
   "metadata": {},
   "source": [
    "$$ P(y | x_1,x_2,...,x_n) = \\frac{P(y) \\prod\\limits_{i=1}^{n}P(x_i| y)}{P(x_1,x_2,...,x_n)} $$"
   ]
  },
  {
   "cell_type": "markdown",
   "id": "17d056e7",
   "metadata": {},
   "source": [
    "Откуда следует, что"
   ]
  },
  {
   "cell_type": "markdown",
   "id": "25940a61",
   "metadata": {},
   "source": [
    "$$ P(y | x_1,x_2,...,x_n) \\propto P(y) \\prod\\limits_{i=1}^{n}P(x_i| y) $$"
   ]
  },
  {
   "cell_type": "markdown",
   "id": "5574ad39",
   "metadata": {},
   "source": [
    "$$\\hat{y} = arg \\max_{y} P(y) \\prod\\limits_{i=1}^{n}P(x_i| y) $$"
   ]
  },
  {
   "cell_type": "markdown",
   "id": "a51cd991",
   "metadata": {},
   "source": [
    "В данном задании будем предполагать, что "
   ]
  },
  {
   "cell_type": "markdown",
   "id": "880be0dd",
   "metadata": {},
   "source": [
    "$$ P(x_i | y) = \\frac{1}{\\sqrt{2\\pi \\sigma_y^2}} e^{- \\frac{(x_i - \\mu_y)^2}{2\\sigma_y^2}}, $$"
   ]
  },
  {
   "cell_type": "markdown",
   "id": "df6f5439",
   "metadata": {},
   "source": [
    "где $\\mu_y$ и $\\sigma_y$ считаются по оценке максимального правдобия"
   ]
  },
  {
   "cell_type": "markdown",
   "id": "5bc9d663",
   "metadata": {},
   "source": [
    "### Задание"
   ]
  },
  {
   "cell_type": "markdown",
   "id": "c362d3e0",
   "metadata": {},
   "source": [
    "Необходимо реализовать наивный байесовский классификтор для нормального распределения.\n",
    "Сам код необходимо оформить и отправить боту в виде класса MyGaussianNBClassifier в файле seminar03.py\n"
   ]
  },
  {
   "cell_type": "code",
   "execution_count": 7,
   "id": "b556c4c4",
   "metadata": {},
   "outputs": [],
   "source": [
    "class MyGaussianNBClassifier():\n",
    "    def __init__(self, priors=None):\n",
    "        pass\n",
    "    \n",
    "    def fit(self, X, y):\n",
    "        pass\n",
    "    \n",
    "    def predict(self, X):\n",
    "        pass\n",
    "    \n",
    "    def predict_proba(self, X):\n",
    "        pass\n",
    "    \n",
    "    def score(X, y):\n",
    "        pass\n",
    "    "
   ]
  },
  {
   "cell_type": "markdown",
   "id": "d79fab4b",
   "metadata": {},
   "source": [
    "Ваша реализация дожна поддерживать методы predict, predict_proba, score аналоично методам класса sklearn.naive_bayes.GaussianNB"
   ]
  },
  {
   "cell_type": "code",
   "execution_count": null,
   "id": "1c7642c8",
   "metadata": {},
   "outputs": [],
   "source": []
  }
 ],
 "metadata": {
  "kernelspec": {
   "display_name": "Python 3 (ipykernel)",
   "language": "python",
   "name": "python3"
  },
  "language_info": {
   "codemirror_mode": {
    "name": "ipython",
    "version": 3
   },
   "file_extension": ".py",
   "mimetype": "text/x-python",
   "name": "python",
   "nbconvert_exporter": "python",
   "pygments_lexer": "ipython3",
   "version": "3.11.4"
  }
 },
 "nbformat": 4,
 "nbformat_minor": 5
}
