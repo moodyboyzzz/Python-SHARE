{
 "cells": [
  {
   "cell_type": "code",
   "execution_count": 29,
   "id": "0e8a6212",
   "metadata": {},
   "outputs": [],
   "source": [
    "class SpeedViolatorDetector:\n",
    "    def __init__(self, threshold_speed=40):\n",
    "        self.threshold_speed = threshold_speed\n",
    "        self.cars = {}\n",
    "        self.violators = set()\n",
    "        \n",
    "    def process_line(self, line):\n",
    "        timestamp, track_id, object_type, x, y, city_name = map(str.strip, line.split(','))\n",
    "        x, y = float(x), float(y)\n",
    "        timestamp = float(timestamp)\n",
    "        if track_id not in self.cars:\n",
    "            self.cars[track_id] = {'prev_timestamp': timestamp, 'prev_x': x, 'prev_y': y, 'sumtime' : 0}\n",
    "        else:\n",
    "            speed = ((x - self.cars[track_id]['prev_x'])**2 + (y - self.cars[track_id]['prev_y'])**2)**0.5 / (timestamp - self.cars[track_id]['prev_timestamp']) * 3.6\n",
    "            self.cars[track_id]['sumtime'] +=  (timestamp - self.cars[track_id]['prev_timestamp'])\n",
    "            self.cars[track_id]['prev_timestamp'] = timestamp\n",
    "            self.cars[track_id]['prev_x'] = x\n",
    "            self.cars[track_id]['prev_y'] = y\n",
    "\n",
    "            if speed > self.threshold_speed :\n",
    "                if self.cars[track_id]['sumtime'] >= 1 and not(track_id in self.violators):\n",
    "                    self.violators.add(track_id)\n",
    "                    return f\"{track_id}\"\n",
    "            else:\n",
    "                self.cars[track_id]['sumtime'] = 0\n",
    "\n",
    "    def detect_speed_violators(self, file_path):\n",
    "        with open('data.csv', 'r') as file:\n",
    "            next(file)\n",
    "            for line in file:\n",
    "                result = self.process_line(line)\n",
    "                if result:\n",
    "                    yield result\n",
    "\n",
    "detector = SpeedViolatorDetector()\n",
    "\n",
    "with open('answer.txt', 'w') as output_file:\n",
    "    for violator in detector.detect_speed_violators(file_path):\n",
    "        output_file.write(violator + '\\n')"
   ]
  },
  {
   "cell_type": "code",
   "execution_count": null,
   "id": "93a4916c",
   "metadata": {},
   "outputs": [],
   "source": []
  }
 ],
 "metadata": {
  "kernelspec": {
   "display_name": "Python 3 (ipykernel)",
   "language": "python",
   "name": "python3"
  },
  "language_info": {
   "codemirror_mode": {
    "name": "ipython",
    "version": 3
   },
   "file_extension": ".py",
   "mimetype": "text/x-python",
   "name": "python",
   "nbconvert_exporter": "python",
   "pygments_lexer": "ipython3",
   "version": "3.11.4"
  }
 },
 "nbformat": 4,
 "nbformat_minor": 5
}
